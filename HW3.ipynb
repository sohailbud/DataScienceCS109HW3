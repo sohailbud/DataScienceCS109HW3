{
 "metadata": {
  "name": ""
 },
 "nbformat": 3,
 "nbformat_minor": 0,
 "worksheets": [
  {
   "cells": [
    {
     "cell_type": "markdown",
     "metadata": {},
     "source": [
      "# Homework 3. Bayesian Tomatoes"
     ]
    },
    {
     "cell_type": "markdown",
     "metadata": {},
     "source": [
      "Due Thursday, October 17, 11:59pm"
     ]
    },
    {
     "cell_type": "markdown",
     "metadata": {},
     "source": [
      "<div class=\"banner-container\">\n",
      "<img src=\"http://content7.flixster.com/movie/11/16/81/11168101_det.jpg\" width=180>\n",
      "</div>\n",
      "\n",
      "<div class=\"banner-container\">\n",
      "<img src=\"http://content6.flixster.com/movie/11/15/15/11151508_det.jpg\" width=180>\n",
      "</div>\n",
      "\n",
      "<div class=\"banner-container\">\n",
      "<img src=\"http://content9.flixster.com/movie/11/16/61/11166199_det.jpg\" width=180>\n",
      "</div>\n",
      "\n",
      "<div class=\"clear\"> </div>\n",
      "\n",
      "<style type=\"text/css\">\n",
      ".banner-container {\n",
      "height:350px;\n",
      "margin-left: 30px;\n",
      "float:left;\n",
      "}\n",
      ".clear {\n",
      "clear:both;\n",
      "}\n",
      "</style>"
     ]
    },
    {
     "cell_type": "markdown",
     "metadata": {},
     "source": [
      "In this assignment, you'll be analyzing movie reviews from [Rotten Tomatoes](http://www.rottentomatoes.com). This assignment will cover:\n",
      "\n",
      " * Working with web APIs\n",
      " * Making and interpreting predictions from a Bayesian perspective\n",
      " * Using the Naive Bayes algorithm to predict whether a movie review is positive or negative\n",
      " * Using cross validation to optimize models\n",
      "\n",
      "Useful libraries for this assignment\n",
      "\n",
      "* [numpy](http://docs.scipy.org/doc/numpy-dev/user/index.html), for arrays\n",
      "* [scikit-learn](http://scikit-learn.org/stable/), for machine learning\n",
      "* [json](http://docs.python.org/2/library/json.html) for parsing JSON data from the web.\n",
      "* [pandas](http://pandas.pydata.org/), for data frames\n",
      "* [matplotlib](http://matplotlib.org/), for plotting\n",
      "* [requests](http://docs.python-requests.org/en/latest/), for downloading web content"
     ]
    },
    {
     "cell_type": "code",
     "collapsed": false,
     "input": [
      "%matplotlib inline\n",
      "\n",
      "import json\n",
      "\n",
      "import requests\n",
      "import pandas as pd\n",
      "import numpy as np\n",
      "import matplotlib.pyplot as plt\n",
      "\n",
      "pd.set_option('display.width', 500)\n",
      "pd.set_option('display.max_columns', 30)\n",
      "\n",
      "# set some nicer defaults for matplotlib\n",
      "from matplotlib import rcParams\n",
      "\n",
      "#these colors come from colorbrewer2.org. Each is an RGB triplet\n",
      "dark2_colors = [(0.10588235294117647, 0.6196078431372549, 0.4666666666666667),\n",
      "                (0.8509803921568627, 0.37254901960784315, 0.00784313725490196),\n",
      "                (0.4588235294117647, 0.4392156862745098, 0.7019607843137254),\n",
      "                (0.9058823529411765, 0.1607843137254902, 0.5411764705882353),\n",
      "                (0.4, 0.6509803921568628, 0.11764705882352941),\n",
      "                (0.9019607843137255, 0.6705882352941176, 0.00784313725490196),\n",
      "                (0.6509803921568628, 0.4627450980392157, 0.11372549019607843),\n",
      "                (0.4, 0.4, 0.4)]\n",
      "\n",
      "rcParams['figure.figsize'] = (10, 6)\n",
      "rcParams['figure.dpi'] = 150\n",
      "rcParams['axes.color_cycle'] = dark2_colors\n",
      "rcParams['lines.linewidth'] = 2\n",
      "rcParams['axes.grid'] = False\n",
      "rcParams['axes.facecolor'] = 'white'\n",
      "rcParams['font.size'] = 14\n",
      "rcParams['patch.edgecolor'] = 'none'\n",
      "\n",
      "\n",
      "def remove_border(axes=None, top=False, right=False, left=True, bottom=True):\n",
      "    \"\"\"\n",
      "    Minimize chartjunk by stripping out unnecessary plot borders and axis ticks\n",
      "    \n",
      "    The top/right/left/bottom keywords toggle whether the corresponding plot border is drawn\n",
      "    \"\"\"\n",
      "    ax = axes or plt.gca()\n",
      "    ax.spines['top'].set_visible(top)\n",
      "    ax.spines['right'].set_visible(right)\n",
      "    ax.spines['left'].set_visible(left)\n",
      "    ax.spines['bottom'].set_visible(bottom)\n",
      "    \n",
      "    #turn off all ticks\n",
      "    ax.yaxis.set_ticks_position('none')\n",
      "    ax.xaxis.set_ticks_position('none')\n",
      "    \n",
      "    #now re-enable visibles\n",
      "    if top:\n",
      "        ax.xaxis.tick_top()\n",
      "    if bottom:\n",
      "        ax.xaxis.tick_bottom()\n",
      "    if left:\n",
      "        ax.yaxis.tick_left()\n",
      "    if right:\n",
      "        ax.yaxis.tick_right()"
     ],
     "language": "python",
     "metadata": {},
     "outputs": [],
     "prompt_number": 1
    },
    {
     "cell_type": "markdown",
     "metadata": {},
     "source": [
      "## Introduction\n",
      "\n",
      "Rotten Tomatoes gathers movie reviews from critics. An [entry on the website](http://www.rottentomatoes.com/m/primer/reviews/?type=top_critics) typically consists of a short quote, a link to the full review, and a Fresh/Rotten classification which summarizes whether the critic liked/disliked the movie.\n",
      "\n",
      "\n",
      "When critics give quantitative ratings (say 3/4 stars, Thumbs up, etc.), determining the Fresh/Rotten classification is easy. However, publications like the New York Times don't assign numerical ratings to movies, and thus the Fresh/Rotten classification must be inferred from the text of the review itself.\n",
      "\n",
      "This basic task of categorizing text has many applications. All of the following questions boil down to text classification:\n",
      "\n",
      " * Is a movie review positive or negative?\n",
      " * Is an email spam, or not?\n",
      " * Is a comment on a blog discussion board appropriate, or not?\n",
      " * Is a tweet about your company positive, or not?\n",
      " \n",
      "\n",
      "Language is incredibly nuanced, and there is an entire field of computer science dedicated to the topic (Natural Language Processing). Nevertheless, we can construct basic language models using fairly straightforward techniques. \n",
      "\n",
      "## The Data\n",
      "\n",
      "You will be starting with a database of Movies, derived from the MovieLens dataset. This dataset includes information for about 10,000 movies, including the IMDB id for each movie. \n",
      "\n",
      "Your first task is to download Rotten Tomatoes reviews from 3000 of these movies, using the Rotten Tomatoes API (Application Programming Interface)."
     ]
    },
    {
     "cell_type": "markdown",
     "metadata": {},
     "source": [
      "### Working with Web APIs\n",
      "Web APIs are a more convenient way for programs to interact with websites. Rotten Tomatoes has a nice API that gives access to its data in JSON format.\n",
      "\n",
      "To use this, you will first need to [register for an API key](http://developer.rottentomatoes.com/member/register). For \"application URL\", you can use anything -- it doesn't matter.\n",
      "\n",
      "Key: yjvv5mdm68qeumgg67uev3yf\n",
      "\n",
      "After you have a key, the [documentation page](http://developer.rottentomatoes.com/iodocs) shows the various data you can fetch from Rotten Tomatoes -- each type of data lives at a different web address. The basic pattern for fetching this data with Python is as follows (compare this to the `Movie Reviews` tab on the documentation page):"
     ]
    },
    {
     "cell_type": "code",
     "collapsed": false,
     "input": [
      "#sohail:yjvv5mdm68qeumgg67uev3yf sahil:3crwvk8bk9uxqgjqxg9q8hs8 shaina:qy8kmq7b3dn7erh3xwtue757 work:ta75a9jh9n4t7hu7gdxnw6sg\n",
      "#tabu:qy8kmq7b3dn7erh3xwtue757\n",
      "api_key = 'yjvv5mdm68qeumgg67uev3yf' \n",
      "movie_id = '770672122'  # toy story 3\n",
      "url = 'http://api.rottentomatoes.com/api/public/v1.0/movies/%s/reviews.json' % movie_id\n",
      "\n",
      "#these are \"get parameters\"\n",
      "options = {'review_type': 'top_critic', 'page_limit': 20, 'page': 1, 'apikey': api_key}\n",
      "data = requests.get(url, params=options).text\n",
      "data = json.loads(data)  # load a json string into a collection of lists and dicts\n",
      "\n",
      "print json.dumps(data['reviews'][0], indent=2)  # dump an object into a json string\n",
      "\n"
     ],
     "language": "python",
     "metadata": {},
     "outputs": [
      {
       "output_type": "stream",
       "stream": "stdout",
       "text": [
        "{\n",
        "  \"publication\": \"Village Voice\", \n",
        "  \"links\": {\n",
        "    \"review\": \"http://www.villagevoice.com/2010-06-15/film/toys-are-us-in-toy-story-3/full/\"\n",
        "  }, \n",
        "  \"quote\": \"When teenaged Andy plops down on the grass to share his old toys with a shy little girl, the film spikes with sadness and layered pleasure -- a concise, deeply wise expression of the ephemeral that feels real and yet utterly transporting.\", \n",
        "  \"freshness\": \"fresh\", \n",
        "  \"critic\": \"Eric Hynes\", \n",
        "  \"date\": \"2013-08-04\"\n",
        "}\n"
       ]
      }
     ],
     "prompt_number": 10
    },
    {
     "cell_type": "markdown",
     "metadata": {},
     "source": [
      "## Part 1: Get the data\n",
      "Here's a chunk of the MovieLens Dataset:"
     ]
    },
    {
     "cell_type": "code",
     "collapsed": false,
     "input": [
      "from io import StringIO  \n",
      "movie_txt = requests.get('https://raw.github.com/cs109/cs109_data/master/movies.dat').text\n",
      "movie_file = StringIO(movie_txt) # treat a string like a file\n",
      "movies = pd.read_csv(movie_file, delimiter='\\t')\n",
      "\n",
      "#print the first row\n",
      "movies[['id', 'title', 'imdbID', 'year']].irow(0)"
     ],
     "language": "python",
     "metadata": {},
     "outputs": [
      {
       "metadata": {},
       "output_type": "pyout",
       "prompt_number": 3,
       "text": [
        "id                1\n",
        "title     Toy story\n",
        "imdbID       114709\n",
        "year           1995\n",
        "Name: 0, dtype: object"
       ]
      }
     ],
     "prompt_number": 3
    },
    {
     "cell_type": "markdown",
     "metadata": {},
     "source": [
      "#### P1.1\n",
      "\n",
      "We'd like you to write a function that looks up the first 20 Top Critic Rotten Tomatoes reviews for a movie in the `movies` dataframe. This involves two steps:\n",
      "\n",
      "1. Use the `Movie Alias` API to look up the Rotten Tomatoes movie id from the IMDB id\n",
      "1. Use the `Movie Reviews` API to fetch the first 20 top-critic reviews for this movie\n",
      "\n",
      "Not all movies have Rotten Tomatoes IDs. In these cases, your function should return `None`. The detailed spec is below. We are giving you some freedom with how you implement this, but you'll probably want to break this task up into several small functions.\n",
      "\n",
      "**Hint**\n",
      "In some situations, the leading 0s in front of IMDB ids are important. IMDB ids have 7 digits"
     ]
    },
    {
     "cell_type": "code",
     "collapsed": true,
     "input": [
      "\"\"\"\n",
      "Function\n",
      "--------\n",
      "fetch_reviews(movies, row)\n",
      "\n",
      "Use the Rotten Tomatoes web API to fetch reviews for a particular movie\n",
      "\n",
      "Parameters\n",
      "----------\n",
      "movies : DataFrame \n",
      "  The movies data above\n",
      "row : int\n",
      "  The row of the movies DataFrame to use\n",
      "  \n",
      "Returns\n",
      "-------\n",
      "If you can match the IMDB id to a Rotten Tomatoes ID:\n",
      "  A DataFrame, containing the first 20 Top Critic reviews \n",
      "  for the movie. If a movie has less than 20 total reviews, return them all.\n",
      "  This should have the following columns:\n",
      "    critic : Name of the critic\n",
      "    fresh  : 'fresh' or 'rotten'\n",
      "    imdb   : IMDB id for the movie\n",
      "    publication: Publication that the critic writes for\n",
      "    quote  : string containing the movie review quote\n",
      "    review_data: Date of review\n",
      "    rtid   : Rotten Tomatoes ID for the movie\n",
      "    title  : Name of the movie\n",
      "    \n",
      "If you cannot match the IMDB id to a Rotten Tomatoes ID, return None\n",
      "\n",
      "Examples\n",
      "--------\n",
      ">>> reviews = fetch_reviews(movies, 0)\n",
      ">>> print len(reviews)\n",
      "20\n",
      ">>> print reviews.irow(1)\n",
      "critic                                               Derek Adams\n",
      "fresh                                                      fresh\n",
      "imdb                                                      114709\n",
      "publication                                             Time Out\n",
      "quote          So ingenious in concept, design and execution ...\n",
      "review_date                                           2009-10-04\n",
      "rtid                                                        9559\n",
      "title                                                  Toy story\n",
      "Name: 1, dtype: object\n",
      "\"\"\"\n",
      "#your code here\n",
      "\n",
      "#gets the Rotten Tomatoes id for a movie using the IMDB id\n",
      "def get_RT_id(imdb_id):\n",
      "        \n",
      "    #add 1 or 2 leading 0's based on the length of the IMDB id input    \n",
      "    if len(str(imdb_id))==6: imdb_id='0'+str(imdb_id)   \n",
      "    if len(str(imdb_id))==5: imdb_id='00'+str(imdb_id)\n",
      "\n",
      "    #url to get data on movies using imdb id on rotten tomatoes\n",
      "    url = 'http://api.rottentomatoes.com/api/public/v1.0/movie_alias.json?id=',str(imdb_id),'&type=imdb&apikey=',api_key\n",
      "    movie_txt = requests.get(''.join(url)).text  #makes the url as a single string\n",
      "    movie_info = json.loads(movie_txt)     #using json.loads, breaks the text from URL into dictionary\n",
      "    \n",
      "    if movie_info.keys()[0]=='error':    #if the text from the url comes out as error, movie_id is set to 'None'\n",
      "        movie_id='None' \n",
      "        \n",
      "    else:    \n",
      "        movie_id=movie_info['id']    #capture the value stored under id, which is rotten tomatoes movie id\n",
      "    \n",
      "    return movie_id       #return the movie id\n",
      "\n",
      "\n",
      "#this function gets the movie reviews for a single rotten tomatoes id\n",
      "def get_reviews(RT_id):\n",
      "    \n",
      "    #url to get reviews on movies using rotten tomatoes id\n",
      "    url = 'http://api.rottentomatoes.com/api/public/v1.0/movies/',str(RT_id),'/reviews.json?review_type=top_critic&page_limit=20&page=1&country=us&apikey=',api_key  \n",
      "    movie_txt = requests.get(''.join(url)).text   #makes the url as a single string\n",
      "    review_info = json.loads(movie_txt)     #using json.loads, breaks the text from URL into nested dictionary\n",
      "    \n",
      "    #empty arrays to store values from the url page\n",
      "    critic=np.array([])\n",
      "    fresh=np.array([])\n",
      "    publication=np.array([])\n",
      "    quote=np.array([])\n",
      "    review_date=np.array([])\n",
      "    \n",
      "    #using try/except function to pass on KeyError\n",
      "    try:\n",
      "        if review_info['reviews']:             #from the nested dictionary, checks to see if key reviews exist\n",
      "            for i in review_info['reviews']:    #loops through dictionaries in stored in reviews\n",
      "                #gets all 5 values for each review and stores them into a numpy array\n",
      "                publication=np.append(publication,i['publication'])   \n",
      "                quote=np.append(quote,i['quote'])\n",
      "                fresh=np.append(fresh,i['freshness'])\n",
      "                critic=np.append(critic,i['critic'])\n",
      "                review_date=np.append(review_date,i['date'])\n",
      "            #creates dataframe by combining all 5 arrays\n",
      "            reviews=pd.DataFrame({'critic':critic, 'fresh':fresh, 'publication':publication,'quote':quote,'review_date':review_date})\n",
      "        \n",
      "        if not review_info['reviews']: #if key reviews doesnt exist, then psses a strong \"None' for reviews\n",
      "            reviews='None'\n",
      "    except KeyError:     #while loop if a keyerror occurs, passes 'None' for reviews\n",
      "        reviews='None'\n",
      "    return reviews     #returns reviews\n",
      "\n",
      "#gets up to first 20 reviews for a particular defined by the row # in movies dataframe\n",
      "def fetch_reviews(movies, row):\n",
      "\n",
      "        imdb_id=movies.imdbID[row]    #get IMDB id from the movies data frame for a defined row\n",
      "        RT_id=get_RT_id(imdb_id)     #calls on get_RT_id function to get rotten tomatoes id\n",
      "        \n",
      "        title=movies.title[row]      #gets title of the movie from movies data frame for a given row\n",
      "            \n",
      "        if RT_id!='None':              #checks to see if RT_id from get_RT_id function is not 'None'\n",
      "            reviews=get_reviews(RT_id)  #calls on get_reviews function to get all the reviews for a given row\n",
      "            if reviews!='None':         #checks to see if the output from get_reviews function is not 'None'\n",
      "            \n",
      "                #creates a column in reviews data frame for title, imdb id, and rotten tomatoes id and creates an array of length\n",
      "                #the dataframe. Put this arrays in the dataframe\n",
      "                imdb_array=np.array([imdb_id]*len(reviews)) \n",
      "                reviews['imdb']=imdb_array\n",
      "                rtid_array=np.array([RT_id]*len(reviews))\n",
      "                reviews['rtid']=rtid_array\n",
      "                title_array=np.array([title]*len(reviews))\n",
      "                reviews['title']=title_array\n",
      "            \n",
      "                reviews=reviews.ix[:20,:]   #gets only first 20 reviews  and ignores the rest if there are more than 20\n",
      "    \n",
      "                return reviews"
     ],
     "language": "python",
     "metadata": {},
     "outputs": [],
     "prompt_number": 4
    },
    {
     "cell_type": "markdown",
     "metadata": {},
     "source": [
      "#### P1.2\n",
      "\n",
      "Use the function you wrote to retrieve reviews for the first 3,000 movies in the movies dataframe.\n",
      "\n",
      "##### Hints\n",
      "* Rotten Tomatoes limits you to **10,000 API requests a day**. Be careful about this limit! Test your code on smaller inputs before scaling. You are responsible if you hit the limit the day the assignment is due :)\n",
      "* This will take a while to download. If you don't want to re-run this function every time you restart the notebook, you can save and re-load this data as a CSV file. However, please don't submit this file"
     ]
    },
    {
     "cell_type": "code",
     "collapsed": false,
     "input": [
      "\"\"\"\n",
      "Function\n",
      "--------\n",
      "build_table\n",
      "\n",
      "Parameters\n",
      "----------\n",
      "movies : DataFrame\n",
      "  The movies data above\n",
      "rows : int\n",
      "  The number of rows to extract reviews for\n",
      "  \n",
      "Returns\n",
      "--------\n",
      "A dataframe\n",
      "  The data obtained by repeatedly calling `fetch_reviews` on the first `rows`\n",
      "  of `movies`, discarding the `None`s,\n",
      "  and concatenating the results into a single DataFrame\n",
      "\"\"\"\n",
      "#your code here\n",
      "#builds a dataframe of all the reviews for a given number of movies\n",
      "def build_table(movies,rows):\n",
      "\n",
      "    reviews=pd.DataFrame()   #empty dataframe\n",
      "    \n",
      "    \n",
      "    for row in movies.index[:rows]:   #using index loops through movies dataframe until given number of rows\n",
      "        \n",
      "        if fetch_reviews(movies,row):     #calls on fetch_reviews() function and checks to see there is a return\n",
      "            \n",
      "            #calls on fetch_reviews() function and appends the reviews in reviews dataframe.\n",
      "            #resets the index as well\n",
      "            reviews=reviews.append(fetch_reviews(movies,row)).reset_index(drop=False).drop(['index'],axis=1)\n",
      "           \n",
      "\n",
      "            \n",
      "    return reviews\n"
     ],
     "language": "python",
     "metadata": {},
     "outputs": [],
     "prompt_number": 6
    },
    {
     "cell_type": "code",
     "collapsed": false,
     "input": [
      "#you can toggle which lines are commented, if you\n",
      "#want to re-load your results to avoid repeatedly calling this function\n",
      "\n",
      "critics = build_table(movies, 3000)\n",
      "#critics.to_csv('critics.csv', index=False)\n",
      "#critics = pd.read_csv('critics.csv')\n",
      "\n",
      "\n",
      "#for this assignment, let's drop rows with missing data\n",
      "critics = critics[~critics.quote.isnull()]\n",
      "critics = critics[critics.fresh != 'none']\n",
      "critics = critics[critics.quote.str.len() > 0]"
     ],
     "language": "python",
     "metadata": {},
     "outputs": [],
     "prompt_number": 7
    },
    {
     "cell_type": "markdown",
     "metadata": {},
     "source": [
      "A quick sanity check that everything looks ok at this point"
     ]
    },
    {
     "cell_type": "code",
     "collapsed": false,
     "input": [
      "assert set(critics.columns) == set('critic fresh imdb publication '\n",
      "                                   'quote review_date rtid title'.split())\n",
      "assert len(critics) > 10000"
     ],
     "language": "python",
     "metadata": {},
     "outputs": [],
     "prompt_number": 8
    },
    {
     "cell_type": "markdown",
     "metadata": {},
     "source": [
      "## Part 2: Explore\n",
      "\n",
      "Before delving into analysis, get a sense of what these data look like. Answer the following questions. Include your code!"
     ]
    },
    {
     "cell_type": "markdown",
     "metadata": {},
     "source": [
      "**2.1** How many reviews, critics, and movies are in this dataset?\n"
     ]
    },
    {
     "cell_type": "code",
     "collapsed": false,
     "input": [
      "#your code here\n",
      "reviews_count=len(critics.index)            #checks to see how many reviews are in dataframe for 3000 rows from movies dataframe\n",
      "critic_count=len(critics.critic.unique())   #checks for number unique crtics \n",
      "movie_count=len(critics.title.unique())     #checks to see how many unique movies\n",
      "\n",
      "print \"Reviews:\",reviews_count\n",
      "print \"Critics:\",critic_count\n",
      "print \"Movies:\",movie_count"
     ],
     "language": "python",
     "metadata": {},
     "outputs": [
      {
       "output_type": "stream",
       "stream": "stdout",
       "text": [
        "Reviews: 13212\n",
        "Critics: 585\n",
        "Movies: 1667\n"
       ]
      }
     ],
     "prompt_number": 9
    },
    {
     "cell_type": "markdown",
     "metadata": {},
     "source": [
      "**2.2** What does the distribution of number of reviews per reviewer look like? Make a histogram"
     ]
    },
    {
     "cell_type": "code",
     "collapsed": false,
     "input": [
      "#Your code here\n",
      "#groups the dataframe by critic and gets size of each group to find out how many reviews each critic has\n",
      "reviewers=critics.groupby('critic').agg({'critic':[np.size]})\n",
      "bin_size=len(reviewers.critic.size.unique())   #sets the bin size for histogram by captuing unique values in reviewers\n",
      "\n",
      "fig, ax = plt.subplots()  #creates subplots\n",
      "\n",
      "#plots the histogram using log for y-axis\n",
      "ax.hist(reviewers.critic.size,bins=bin_size,log=True, edgecolor='black')\n",
      "#removes right and top borders\n",
      "ax.spines['right'].set_visible(False)\n",
      "ax.spines['top'].set_visible(False)\n",
      "ax.set_title('Reviews per Reviewer')   #sets title\n",
      "\n",
      "plt.show()\n"
     ],
     "language": "python",
     "metadata": {},
     "outputs": [
      {
       "metadata": {},
       "output_type": "display_data",
       "png": "[encoded data removed]",
       "text": [
        "<matplotlib.figure.Figure at 0x107bf7a10>"
       ]
      }
     ],
     "prompt_number": 14
    },
    {
     "cell_type": "markdown",
     "metadata": {},
     "source": [
      "**2.3** List the 5 critics with the most reviews, along with the publication they write for"
     ]
    },
    {
     "cell_type": "code",
     "collapsed": false,
     "input": [
      "#Your code here\n",
      "#groups the dataframe by critic, gets the size and then sorts by size from largest to smallest\n",
      "all_critics=critics.groupby('critic').critic.size().order(ascending=False)\n",
      "#picks top 5 critics from all_critics, find those critics in main data frame. Then only takes critic and publication columns\n",
      "#then drops any duplicates\n",
      "top_5_critics=critics[critics['critic'].isin(all_critics.index[:5])][['critic','publication']].drop_duplicates().sort('critic')\n",
      "#resets the index\n",
      "top_5_critics.reset_index(drop=False).drop(['index'],axis=1)\n"
     ],
     "language": "python",
     "metadata": {},
     "outputs": [
      {
       "html": [
        "<div style=\"max-height:1000px;max-width:1500px;overflow:auto;\">\n",
        "<table border=\"1\" class=\"dataframe\">\n",
        "  <thead>\n",
        "    <tr style=\"text-align: right;\">\n",
        "      <th></th>\n",
        "      <th>critic</th>\n",
        "      <th>publication</th>\n",
        "    </tr>\n",
        "  </thead>\n",
        "  <tbody>\n",
        "    <tr>\n",
        "      <th>0</th>\n",
        "      <td>     Desson Thomson</td>\n",
        "      <td>   Washington Post</td>\n",
        "    </tr>\n",
        "    <tr>\n",
        "      <th>1</th>\n",
        "      <td> James Berardinelli</td>\n",
        "      <td>         ReelViews</td>\n",
        "    </tr>\n",
        "    <tr>\n",
        "      <th>2</th>\n",
        "      <td>       Janet Maslin</td>\n",
        "      <td>    New York Times</td>\n",
        "    </tr>\n",
        "    <tr>\n",
        "      <th>3</th>\n",
        "      <td> Jonathan Rosenbaum</td>\n",
        "      <td>    Chicago Reader</td>\n",
        "    </tr>\n",
        "    <tr>\n",
        "      <th>4</th>\n",
        "      <td>        Roger Ebert</td>\n",
        "      <td> Chicago Sun-Times</td>\n",
        "    </tr>\n",
        "    <tr>\n",
        "      <th>5</th>\n",
        "      <td>        Roger Ebert</td>\n",
        "      <td>     At the Movies</td>\n",
        "    </tr>\n",
        "  </tbody>\n",
        "</table>\n",
        "</div>"
       ],
       "metadata": {},
       "output_type": "pyout",
       "prompt_number": 13,
       "text": [
        "               critic        publication\n",
        "0      Desson Thomson    Washington Post\n",
        "1  James Berardinelli          ReelViews\n",
        "2        Janet Maslin     New York Times\n",
        "3  Jonathan Rosenbaum     Chicago Reader\n",
        "4         Roger Ebert  Chicago Sun-Times\n",
        "5         Roger Ebert      At the Movies"
       ]
      }
     ],
     "prompt_number": 13
    },
    {
     "cell_type": "markdown",
     "metadata": {},
     "source": [
      "**2.4** Of the critics with > 100 reviews, plot the distribution of average \"freshness\" rating per critic"
     ]
    },
    {
     "cell_type": "code",
     "collapsed": false,
     "input": [
      "#Your code here\n",
      "\n",
      "#gets the average freshness for all the critics by grouping by critics. Counting fresh in each group and deviding by size of the group\n",
      "average_freshness=critics.groupby('critic').apply(lambda critic: ((critic.fresh=='fresh').sum())/float(len(critic.fresh))).round(2)\n",
      "#find the crtics who has more than 100 reviews by grouping and getting the size. Creates a mask for boolean values\n",
      "reviews_100=critics.groupby('critic').size()[critics.groupby('critic').size()>100]\n",
      "\n",
      "#uses the mask of boolean values on all crtics data and gets the average freshness for top 100 critics\n",
      "average_freshness_100=average_freshness.loc[reviews_100.index]\n",
      "\n",
      "#set bin size to len of unique values in average_freshness_100 array\n",
      "bin_size=len(np.unique(average_freshness_100.values))\n",
      "\n",
      "fig, ax = plt.subplots()\n",
      "\n",
      "#plots the histogram\n",
      "ax.hist(average_freshness_100,bins=bin_size,edgecolor='black') \n",
      "ax.spines['right'].set_visible(False)  #drops the right border\n",
      "ax.spines['top'].set_visible(False)  #drops top border\n",
      "ax.set_title('Average Freshness') #set title\n",
      "plt.show()\n"
     ],
     "language": "python",
     "metadata": {},
     "outputs": [
      {
       "metadata": {},
       "output_type": "display_data",
       "png": "[encoded data removed]",
       "text": [
        "<matplotlib.figure.Figure at 0x10823f150>"
       ]
      }
     ],
     "prompt_number": 15
    },
    {
     "cell_type": "code",
     "collapsed": false,
     "input": [],
     "language": "python",
     "metadata": {},
     "outputs": [],
     "prompt_number": 17
    },
    {
     "cell_type": "markdown",
     "metadata": {},
     "source": [
      "**2.5**\n",
      "Using the original `movies` dataframe, plot the rotten tomatoes Top Critics Rating as a function of year. Overplot the average for each year, ignoring the score=0 examples (some of these are missing data). Comment on the result -- is there a trend? What do you think it means?"
     ]
    },
    {
     "cell_type": "code",
     "collapsed": false,
     "input": [
      "#Your code here\n",
      "#grabs sub dataframe of only year and rtTopCriticsRating\n",
      "movies_topRating=movies[['year','rtTopCriticsRating']]\n",
      "\n",
      "#Converts the rtTopCriticRating to numeric and fills NaN with 0s\n",
      "movies_topRating.rtTopCriticsRating=movies_topRating.rtTopCriticsRating.convert_objects(convert_numeric=True).fillna(0)\n",
      "#creates a mask of boolean where rating is 0\n",
      "mask=movies_topRating.rtTopCriticsRating!=0\n",
      "#applies the mask on movies_topRating to get only movies which has a rating and resets the index\n",
      "movies_topRating=movies_topRating[mask].reset_index(drop=False).drop(['index'],axis=1)\n",
      "\n",
      "#gets average of rtTopCriticRating by year\n",
      "average_year=movies_topRating.groupby('year').agg({'rtTopCriticsRating':np.mean})\n",
      "\n",
      "\n",
      "fig, ax = plt.subplots()\n",
      "#plots a scatter plot of ratings over the years\n",
      "ax.scatter(movies_topRating.year,movies_topRating.rtTopCriticsRating,alpha=.7,color='darkgreen',marker='x')\n",
      "ax.scatter(average_year.index, average_year.rtTopCriticsRating,color='darkblue')  #plots the average of rating each year\n",
      "ax.spines['right'].set_visible(False) #drop right border\n",
      "ax.spines['top'].set_visible(False)   #drop top border\n",
      "ax.set_xlabel('year')\n",
      "ax.set_ylabel('Top Critic Rating')\n",
      "ax.set_title('Top Critic Ratings Over the Years')"
     ],
     "language": "python",
     "metadata": {},
     "outputs": [
      {
       "metadata": {},
       "output_type": "pyout",
       "prompt_number": 17,
       "text": [
        "<matplotlib.text.Text at 0x107c5a3d0>"
       ]
      },
      {
       "metadata": {},
       "output_type": "display_data",
       "png": "[encoded data removed]",
       "text": [
        "<matplotlib.figure.Figure at 0x107c2d990>"
       ]
      }
     ],
     "prompt_number": 17
    },
    {
     "cell_type": "markdown",
     "metadata": {},
     "source": [
      "*Your Comment Here*\n",
      "\n",
      "We have a lot more data for movies in last few years than before. It could also means we just dont have the rating data. The average rating for movies has been going down. But if you really look at it after the year 1990 where most of the data in dense, the average ratings by year has been stable. Average rating drops again at the end of the graph, maybe year 2013, where again we only have few data points. Based on this graph I would NOT conclude that the average rating of movies have been going down."
     ]
    },
    {
     "cell_type": "markdown",
     "metadata": {},
     "source": [
      "## Part 3: Sentiment Analysis\n",
      "\n",
      "You will now use a [Naive Bayes classifier](https://en.wikipedia.org/wiki/Naive_Bayes_classifier) to build a prediction model for whether a review is fresh or rotten, depending on the text of the review. See Lecture 9 for a discussion of Naive Bayes.\n",
      "\n",
      "Most models work with numerical data, so we need to convert the textual collection of reviews to something numerical. A common strategy for text classification is to represent each review as a \"bag of words\" vector -- a long vector\n",
      "of numbers encoding how many times a particular word appears in a blurb.\n",
      "\n",
      "Scikit-learn has an object called a `CountVectorizer` that turns text into a bag of words. Here's a quick tutorial:"
     ]
    },
    {
     "cell_type": "code",
     "collapsed": false,
     "input": [
      "from sklearn.feature_extraction.text import CountVectorizer\n",
      "\n",
      "text = ['Hop on pop', 'Hop off pop', 'Hop Hop hop']\n",
      "print \"Original text is\\n\", '\\n'.join(text)\n",
      "\n",
      "vectorizer = CountVectorizer(min_df=0)\n",
      "\n",
      "# call `fit` to build the vocabulary\n",
      "vectorizer.fit(text)\n",
      "\n",
      "# call `transform` to convert text to a bag of words\n",
      "x = vectorizer.transform(text)\n",
      "\n",
      "# CountVectorizer uses a sparse array to save memory, but it's easier in this assignment to \n",
      "# convert back to a \"normal\" numpy array\n",
      "x = x.toarray()\n",
      "\n",
      "print\n",
      "print \"Transformed text vector is \\n\", x\n",
      "\n",
      "# `get_feature_names` tracks which word is associated with each column of the transformed x\n",
      "print\n",
      "print \"Words for each feature:\"\n",
      "print vectorizer.get_feature_names()\n",
      "\n",
      "# Notice that the bag of words treatment doesn't preserve information about the *order* of words, \n",
      "# just their frequency"
     ],
     "language": "python",
     "metadata": {},
     "outputs": [
      {
       "output_type": "stream",
       "stream": "stdout",
       "text": [
        "Original text is\n",
        "Hop on pop\n",
        "Hop off pop\n",
        "Hop Hop hop\n",
        "\n",
        "Transformed text vector is \n",
        "[[1 0 1 1]\n",
        " [1 1 0 1]\n",
        " [3 0 0 0]]\n",
        "\n",
        "Words for each feature:\n",
        "[u'hop', u'off', u'on', u'pop']\n"
       ]
      }
     ],
     "prompt_number": 67
    },
    {
     "cell_type": "markdown",
     "metadata": {},
     "source": [
      "**3.1**\n",
      "\n",
      "Using the `critics` dataframe, compute a pair of numerical X, Y arrays where:\n",
      "    \n",
      " * X is a `(nreview, nwords)` array. Each row corresponds to a bag-of-words representation for a single review. This will be the *input* to your model.\n",
      " * Y is a `nreview`-element 1/0 array, encoding whether a review is Fresh (1) or Rotten (0). This is the desired *output* from your model.\n"
     ]
    },
    {
     "cell_type": "code",
     "collapsed": false,
     "input": [
      "#hint: Consult the scikit-learn documentation to\n",
      "#      learn about what these classes do do\n",
      "from sklearn.cross_validation import train_test_split\n",
      "from sklearn.naive_bayes import MultinomialNB\n",
      "import re\n",
      "\n",
      "\"\"\"\n",
      "Function\n",
      "--------\n",
      "make_xy\n",
      "\n",
      "Build a bag-of-words training set for the review data\n",
      "\n",
      "Parameters\n",
      "-----------\n",
      "critics : Pandas DataFrame\n",
      "    The review data from above\n",
      "    \n",
      "vectorizer : CountVectorizer object (optional)\n",
      "    A CountVectorizer object to use. If None,\n",
      "    then create and fit a new CountVectorizer.\n",
      "    Otherwise, re-fit the provided CountVectorizer\n",
      "    using the critics data\n",
      "    \n",
      "Returns\n",
      "-------\n",
      "X : numpy array (dims: nreview, nwords)\n",
      "    Bag-of-words representation for each review.\n",
      "Y : numpy array (dims: nreview)\n",
      "    1/0 array. 1 = fresh review, 0 = rotten review\n",
      "\n",
      "Examples\n",
      "--------\n",
      "X, Y = make_xy(critics)\n",
      "\"\"\"\n",
      "#makes x,y arrays where x is a bag of words from quotes by critics and y i fresh or rotten array in binary form\n",
      "def make_xy(critics,vectorizer):\n",
      "    #Your code here    \n",
      "\n",
      "    #\n",
      "    quotes=[]\n",
      "    y=np.array([])\n",
      "    \n",
      "    #gets quotes and fresh or rotten from critics dataframe\n",
      "    for quote, fresh in zip(critics.quote, critics.fresh):\n",
      "        quotes.append(re.sub(r'[^\\w]', ' ', quote))   #takes out symbols from quote and appends and an entry in list\n",
      "        if fresh=='fresh': y=np.append(y,1)    #assigns value 1 for being fresh and 0 for being rotten\n",
      "        elif fresh=='rotten': y=np.append(y,0)\n",
      "    \n",
      "    #calls the .fit on quote to build vocabulary\n",
      "    vectorizer.fit(quotes)\n",
      "    \n",
      "    #calls transform to convert the text to bag of words, a matrix with columns assigned by number of features and a row represent a single quote \n",
      "    x = vectorizer.transform(quotes)\n",
      "    \n",
      "    #x = x.toarray()\n",
      "    \n",
      "    return x,y\n"
     ],
     "language": "python",
     "metadata": {},
     "outputs": [],
     "prompt_number": 343
    },
    {
     "cell_type": "code",
     "collapsed": false,
     "input": [],
     "language": "python",
     "metadata": {},
     "outputs": [],
     "prompt_number": 343
    },
    {
     "cell_type": "code",
     "collapsed": false,
     "input": [
      "vectorizer = CountVectorizer(min_df=0)  #had to put the CountVectorizer here since i m passing it in function\n",
      "x, y = make_xy(critics,vectorizer)\n"
     ],
     "language": "python",
     "metadata": {},
     "outputs": [],
     "prompt_number": 344
    },
    {
     "cell_type": "markdown",
     "metadata": {},
     "source": [
      "\n",
      "**3.2** Next, randomly split the data into two groups: a\n",
      "training set and a validation set. \n",
      "\n",
      "Use the training set to train a `MultinomialNB` classifier,\n",
      "and print the accuracy of this model on the validation set\n",
      "\n",
      "**Hint**\n",
      "You can use [`train_test_split`](http://scikit-learn.org/stable/modules/generated/sklearn.cross_validation.train_test_split.html) to split up the training data"
     ]
    },
    {
     "cell_type": "code",
     "collapsed": false,
     "input": [
      "#Your code here\n",
      "#splits both x and y sets into test and training set\n",
      "xtrain, xtest, ytrain, ytest = train_test_split(x,y,random_state=42)\n",
      "\n",
      "clf=MultinomialNB()   #assigning MultinomialNB to classifier\n",
      "clf.fit(xtrain, ytrain)  #training the classifier on training set\n",
      "accuracy=clf.score(xtest,ytest)   #generates the scores on test set using the classifier just trained\n",
      "\n",
      "print accuracy  #print the accuracy on validation set"
     ],
     "language": "python",
     "metadata": {},
     "outputs": [
      {
       "output_type": "stream",
       "stream": "stdout",
       "text": [
        "0.768997880715\n"
       ]
      }
     ],
     "prompt_number": 345
    },
    {
     "cell_type": "markdown",
     "metadata": {},
     "source": [
      "**3.3:**\n",
      "\n",
      "We say a model is **overfit** if it performs better on the training data than on the test data. Is this model overfit? If so, how much more accurate is the model on the training data compared to the test data?"
     ]
    },
    {
     "cell_type": "code",
     "collapsed": false,
     "input": [
      "# Your code here. Print the accuracy on the test and training dataset\n",
      "print 'Test:',clf.score(xtest,ytest)    #accuracy on test set\n",
      "print 'Train:',clf.score(xtrain, ytrain)  #accuracy on training set"
     ],
     "language": "python",
     "metadata": {},
     "outputs": [
      {
       "output_type": "stream",
       "stream": "stdout",
       "text": [
        "Test: 0.768997880715\n",
        "Train: 0.925522252498\n"
       ]
      }
     ],
     "prompt_number": 346
    },
    {
     "cell_type": "markdown",
     "metadata": {},
     "source": [
      "*Interpret these numbers in a few sentences here*\n",
      "\n",
      "This model is overfit because it is performing better on training set than test set by almost 15%. Accuracy on training set is close to 92% where as accuracy on test set is around 76%. So the training set model is 15% more accurate than test set model."
     ]
    },
    {
     "cell_type": "markdown",
     "metadata": {},
     "source": [
      "**3.4: Model Calibration**\n",
      "\n",
      "Bayesian models like the Naive Bayes classifier have the nice property that they compute probabilities of a particular classification -- the `predict_proba` and `predict_log_proba` methods of `MultinomialNB` compute these probabilities. \n",
      "\n",
      "Being the respectable Bayesian that you are, you should always assess whether these probabilities are **calibrated** -- that is, whether a prediction made with a confidence of `x%` is correct approximately `x%` of the time. We care about calibration because it tells us whether we can trust the probabilities computed by a model. If we can trust model probabilities, we can make better decisions using them (for example, we can calculate how much we should bet or invest in a given prediction).\n",
      "\n",
      "Let's make a plot to assess model calibration. Schematically, we want something like this:\n",
      "\n",
      "<img src=\"http://i.imgur.com/ea5B6zr.png\" width=500px>\n",
      "\n",
      "In words, we want to:\n",
      "\n",
      "* Take a collection of examples, and compute the freshness probability for each using `clf.predict_proba`\n",
      "* Gather examples into bins of similar freshness probability (the diagram shows 5 groups -- you should use something closer to 20)\n",
      "* For each bin, count the number of examples in that bin, and compute the fraction of examples in the bin which are fresh\n",
      "* In the upper plot, graph the expected P(Fresh) (x axis) and observed freshness fraction (Y axis). Estimate the uncertainty in observed freshness fraction $F$ via the [equation](http://en.wikipedia.org/wiki/Binomial_proportion_confidence_interval) $\\sigma = \\sqrt{F (1-F) / N}$\n",
      "* Overplot the line y=x. This is the trend we would expect if the model is calibrated\n",
      "* In the lower plot, show the number of examples in each bin\n",
      "\n",
      "**Hints**\n",
      "\n",
      "The output of `clf.predict_proba(X)` is a `(N example, 2)` array. The first column gives the probability $P(Y=0)$ or  $P(Rotten)$, and the second gives $P(Y=1)$ or $P(Fresh)$.\n",
      "\n",
      "The above image is just a guideline -- feel free to explore other options!"
     ]
    },
    {
     "cell_type": "code",
     "collapsed": false,
     "input": [
      "\"\"\"\n",
      "Function\n",
      "--------\n",
      "calibration_plot\n",
      "\n",
      "Builds a plot like the one above, from a classifier and review data\n",
      "\n",
      "Inputs\n",
      "-------\n",
      "clf : Classifier object\n",
      "    A MultinomialNB classifier\n",
      "X : (Nexample, Nfeature) array\n",
      "    The bag-of-words data\n",
      "Y : (Nexample) integer array\n",
      "    1 if a review is Fresh\n",
      "\"\"\"\n",
      "#your code here\n",
      "def calibration_plot(clf,X,Y):\n",
      "\n",
      "    #predicts probabilities of whole dataset and gives 2 columns, 1 with prob of rotten (0) and other one with prob of fresh (1)\n",
      "    prob_rating=clf.predict_proba(X)\n",
      "    \n",
      "    #puts all the values for 'fresh' from from prob_rating in array prob_fresh \n",
      "    prob_fresh=np.array([])\n",
      "    for i in prob_rating: prob_fresh=np.append(prob_fresh,i[1])\n",
      "    \n",
      "    bins=np.linspace(0,1,21)  #creates a list of 20 numbers equally spaced between 0 and 1\n",
      "    groups = np.digitize(prob_fresh,bins)   #groups the prob_fresh in 20 bins by of like probabilities together in a bin\n",
      "    bin_means = [prob_fresh[groups == i].mean() for i in range(1, len(bins))]    #calculates the mean of each bin\n",
      "    \n",
      "    bin_size=np.array([])\n",
      "    fresh_fraction=np.array([])\n",
      "    #gets the size of each bin and stores in array bin_size\n",
      "    #using the Y array of fresh or rotten, computes a fraction for each bin with fresh over the size of the bin\n",
      "    for i in np.unique(groups):\n",
      "        fresh_fraction=np.append(fresh_fraction,(Y[groups==i]).sum()/len((Y[groups==i])))\n",
      "        bin_size=np.append(bin_size,len((Y[groups==i])))\n",
      "         \n",
      "    #using the error function provided, calculates the sigma for each bin and stores all the value in array, sigma        \n",
      "    sigma=np.array([])\n",
      "    for fresh_frac,bin_s in zip(fresh_fraction,bin_size):\n",
      "                   sigma=np.append(sigma,np.sqrt((fresh_frac*(1-fresh_frac))/bin_s))\n",
      "    \n",
      "    fig, ax = plt.subplots()\n",
      "    #plots the error bar for expected prob of fresh and fresh fraction in each bin using sigma as error\n",
      "    plt.errorbar(bin_means,fresh_fraction,yerr=sigma)\n",
      "    plt.plot(bin_means,bin_means)  #plots y=x line\n",
      "\n",
      "    plt.show()  #show the errorbar plot\n",
      "    plt.hist(prob_fresh,bins=20,edgecolor='black')   #plots the histogram of number of examples in each bin\n",
      "    \n",
      "    plt.show() #show the histogram\n",
      "    fig.tight_layout()  #sets the layout to tight\n",
      "\n"
     ],
     "language": "python",
     "metadata": {},
     "outputs": [],
     "prompt_number": 347
    },
    {
     "cell_type": "code",
     "collapsed": false,
     "input": [
      "calibration_plot(clf, xtest, ytest)\n"
     ],
     "language": "python",
     "metadata": {},
     "outputs": [
      {
       "metadata": {},
       "output_type": "display_data",
       "png": "[encoded data removed]",
       "text": [
        "<matplotlib.figure.Figure at 0x1063f9990>"
       ]
      },
      {
       "metadata": {},
       "output_type": "display_data",
       "png": "[encoded data removed]",
       "text": [
        "<matplotlib.figure.Figure at 0x1083e2b90>"
       ]
      }
     ],
     "prompt_number": 348
    },
    {
     "cell_type": "markdown",
     "metadata": {},
     "source": [
      "**3.5** We might say a model is *over-confident* if the freshness fraction is usually closer to 0.5 than expected (that is, there is more uncertainty than the model predicted). Likewise, a model is *under-confident* if the probabilities are usually further away from 0.5. Is this model generally over- or under-confident? "
     ]
    },
    {
     "cell_type": "markdown",
     "metadata": {},
     "source": [
      "*Your Answer Here*\n",
      "\n",
      "In this model the probabilities for most cases are away from 0.5 so the model is under-confident."
     ]
    },
    {
     "cell_type": "markdown",
     "metadata": {},
     "source": [
      "#### Cross Validation\n",
      "\n",
      "Our classifier has a few free parameters. The two most important are:\n",
      "\n",
      " 1. The `min_df` keyword in `CountVectorizer`, which will ignore words which appear in fewer than `min_df` fraction of reviews. Words that appear only once or twice can lead to overfitting, since words which occur only a few times might correlate very well with Fresh/Rotten reviews by chance in the training dataset.\n",
      " \n",
      " 2. The [`alpha` keyword](http://scikit-learn.org/stable/modules/naive_bayes.html#multinomial-naive-bayes) in the Bayesian classifier is a \"smoothing parameter\" -- increasing the value decreases the sensitivity to any single feature, and tends to pull prediction probabilities closer to 50%. \n",
      "\n",
      "As discussed in lecture and HW2, a common technique for choosing appropriate values for these parameters is **cross-validation**. Let's choose good parameters by maximizing the cross-validated log-likelihood.\n",
      "\n",
      "**3.6** Using `clf.predict_log_proba`, write a function that computes the log-likelihood of a dataset"
     ]
    },
    {
     "cell_type": "markdown",
     "metadata": {},
     "source": [
      "Here's a function to estimate the cross-validated value of a scoring function, given a classifier and data"
     ]
    },
    {
     "cell_type": "code",
     "collapsed": false,
     "input": [
      "from sklearn.cross_validation import KFold\n",
      "\n",
      "def cv_score(clf, x, y, score_func):\n",
      "    \"\"\"\n",
      "    Uses 5-fold cross validation to estimate a score of a classifier\n",
      "    \n",
      "    Inputs\n",
      "    ------\n",
      "    clf : Classifier object\n",
      "    x : Input feature vector\n",
      "    y : Input class labels\n",
      "    score_func : Function like log_likelihood, that takes (clf, x, y) as input,\n",
      "                 and returns a score\n",
      "                 \n",
      "    Returns\n",
      "    -------\n",
      "    The average score obtained by randomly splitting (x, y) into training and \n",
      "    test sets, fitting on the training set, and evaluating score_func on the test set\n",
      "    \n",
      "    Examples\n",
      "    cv_score(clf, x, y, log_likelihood)\n",
      "    \"\"\"\n",
      "    result = 0\n",
      "    nfold = 5\n",
      "    for train, test in KFold(y.size, nfold): # split data into train/test groups, 5 times\n",
      "        clf.fit(x[train], y[train]) # fit\n",
      "        result += score_func(clf, x[test], y[test]) # evaluate score function on held-out data\n",
      "    return result / nfold # average\n",
      "\n",
      "# as a side note, this function is builtin to the newest version of sklearn. We could just write\n",
      "# sklearn.cross_validation.cross_val_score(clf, x, y, scorer=log_likelihood)."
     ],
     "language": "python",
     "metadata": {},
     "outputs": [],
     "prompt_number": 350
    },
    {
     "cell_type": "markdown",
     "metadata": {},
     "source": [
      "**3.7**\n",
      "\n",
      "Fill in the remaining code in this block, to loop over many values of `alpha` and `min_df` to determine\n",
      "which settings are \"best\" in the sense of maximizing the cross-validated log-likelihood"
     ]
    },
    {
     "cell_type": "code",
     "collapsed": false,
     "input": [
      "#the grid of parameters to search over\n",
      "alphas = [0, .1, 1, 5, 10, 50]\n",
      "min_dfs = [1e-5, 1e-4, 1e-3, 1e-2, 1e-1]\n",
      "\n",
      "#Find the best value for alpha and min_df, and the best classifier\n",
      "best_alpha = None\n",
      "best_min_df = None\n",
      "max_loglike = -np.inf\n",
      "\n",
      "for alpha in alphas:\n",
      "    for min_df in min_dfs:         \n",
      "        vectorizer = CountVectorizer(min_df = min_df)       \n",
      "        X, Y = make_xy(critics, vectorizer)\n",
      "        #your code here\n",
      "        #finds the best alpha and min_df values by intereting over all combination from the list of alphas and min_dfs\n",
      "        \n",
      "        clf=MultinomialNB(alpha=alpha)   #seth the alpha in MultinomialNB to alpha in the loop\n",
      "        score = cv_score(clf, X, Y, log_likelihood)   #calls on cv_score function using log_likelihood function to get the score\n",
      "        if score > max_loglike: #checks to see if the score is greater than max_loglike \n",
      "            max_loglike=score  #if it is then sets the max_loglike to current score, best_min_df to min_df and best_alpha to alpha\n",
      "            best_alpha=alpha    \n",
      "            best_min_df=min_df\n"
     ],
     "language": "python",
     "metadata": {},
     "outputs": [],
     "prompt_number": 351
    },
    {
     "cell_type": "code",
     "collapsed": false,
     "input": [
      "print \"alpha: %f\" % best_alpha\n",
      "print \"min_df: %f\" % best_min_df"
     ],
     "language": "python",
     "metadata": {},
     "outputs": [
      {
       "output_type": "stream",
       "stream": "stdout",
       "text": [
        "alpha: 5.000000\n",
        "min_df: 0.001000\n"
       ]
      }
     ],
     "prompt_number": 352
    },
    {
     "cell_type": "markdown",
     "metadata": {},
     "source": [
      "**3.8** Now that you've determined values for alpha and min_df that optimize the cross-validated log-likelihood, repeat the steps in 3.1, 3.2, and 3.4 to train a final classifier with these parameters, re-evaluate the accuracy, and draw a new calibration plot."
     ]
    },
    {
     "cell_type": "code",
     "collapsed": false,
     "input": [
      "#Your code here\n",
      "\n",
      "#calls on CountVectorizer with new best_min_df value\n",
      "vectorizer=CountVectorizer(min_df=best_min_df)\n",
      "#calls on make_xy function to call create bag of words and fresh/rotten array\n",
      "x, y = make_xy(critics,vectorizer)\n",
      "#splits the data set into training and validation set\n",
      "xtrain, xtest, ytrain, ytest = train_test_split(x,y,random_state=42)\n",
      "\n",
      "#creates a classifier with new best alpha\n",
      "clf=MultinomialNB(alpha=best_alpha)\n",
      "clf.fit(xtrain, ytrain)  #train the model\n",
      "\n",
      "calibration_plot(clf,xtest,ytest)  #calls on calibration_plot to plot the new models\n"
     ],
     "language": "python",
     "metadata": {},
     "outputs": [
      {
       "metadata": {},
       "output_type": "display_data",
       "png": "[encoded data removed]",
       "text": [
        "<matplotlib.figure.Figure at 0x100617710>"
       ]
      },
      {
       "metadata": {},
       "output_type": "display_data",
       "png": "[encoded data removed]",
       "text": [
        "<matplotlib.figure.Figure at 0x107680f90>"
       ]
      }
     ],
     "prompt_number": 358
    },
    {
     "cell_type": "markdown",
     "metadata": {},
     "source": [
      "**3.9** Discuss the various ways in which Cross-Validation has affected the model. Is the new model more or less accurate? Is overfitting better or worse? Is the model more or less calibrated?"
     ]
    },
    {
     "cell_type": "markdown",
     "metadata": {},
     "source": [
      "*Your Answer Here*\n",
      "\n",
      "The spread in bin sizes is less now which indicates most of the bins has approximately same number of examples except in the end with higher probability. Using the best min_df has help us cut some outliers, words that only appears a small number of times. Before cross validation, since min_df was set to 0, the model was capturing all the words causing the graph to be over fitted and more spread. Using a higer alpha of 5, the model is less sinsitive to a particular word (features) which again allows it to be smoother. This model looks more accurate because of being smoother, smaller error bars, and more aligned across the y=x line. \n",
      "\n",
      "Overfitting is bad for models because when you are overfitting, you are capturing every single values in the training set, including the outliers. So increasing the min_df helps avoid the outliers and make the model not try to capture all the values. When you apply an overfitted model on test set, it will fail because not the model is so precised to the training set that it will fail to generalize over the test set. \n",
      "\n",
      "Model is more calibrated than previous model since it aligns more closely to the trend line. Which again tells us how much faith we should have in the probabilities generated by the model.\n"
     ]
    },
    {
     "cell_type": "markdown",
     "metadata": {},
     "source": [
      "*To think about/play with, but not to hand in: What would happen if you tried this again using a function besides the log-likelihood -- for example, the classification accuracy?*"
     ]
    },
    {
     "cell_type": "markdown",
     "metadata": {},
     "source": [
      "## Part 4: Interpretation. What words best predict a fresh or rotten review?\n",
      "\n",
      "**4.1**\n",
      "Using your classifier and the `vectorizer.get_feature_names` method, determine which words best predict a positive or negative review. Print the 10 words\n",
      "that best predict a \"fresh\" review, and the 10 words that best predict a \"rotten\" review. For each word, what is the model's probability of freshness if the word appears one time?\n",
      "\n",
      "#### Hints\n",
      "\n",
      "* Try computing the classification probability for a feature vector which consists of all 0s, except for a single 1. What does this probability refer to?\n",
      "\n",
      "* `np.eye` generates a matrix where the ith row is all 0s, except for the ith column which is 1."
     ]
    },
    {
     "cell_type": "code",
     "collapsed": false,
     "input": [
      "# Your code here\n",
      "\n",
      "#get all the features by calling get_feature_names on vectorizer\n",
      "features=vectorizer.get_feature_names()\n",
      "feature_matrix=np.eye(len(features))   #using np.eye creates a n X n matrix where n is defined by the number of features\n",
      "\n",
      "prob=clf.predict_proba(feature_matrix)   #apply the clasifier (trained model) on the matrix to compute probabilities \n",
      "df=pd.DataFrame(prob,index=features)  #creates dataframe of this prob and use features as the index\n",
      "df.columns=['rotten','fresh'] #change the column names\n",
      "\n",
      "#get the feature names for both worst and best by sorting the dataframe in descending order and getting the index first 10 index\n",
      "#also get the prob at the same itme\n",
      "worst=list(df.sort(['rotten'],ascending=False).head(10).index)  #get worst 10 feature\n",
      "worst_prob=df.sort(['rotten'],ascending=False).head(10).rotten.values #get worst 10 features prob\n",
      "best=list(df.sort(['fresh'],ascending=False).head(10).index)   #get best 10 feature\n",
      "best_prob=df.sort(['fresh'],ascending=False).head(10).fresh.values   #get best 10 features prob\n",
      "\n",
      "#put everythign in a dataframe to present\n",
      "pd.DataFrame({'Worst':worst,'Worst Prob':worst_prob,'Best':best,'Best Prob':best_prob},index=range(1,11))\n"
     ],
     "language": "python",
     "metadata": {},
     "outputs": [
      {
       "html": [
        "<div style=\"max-height:1000px;max-width:1500px;overflow:auto;\">\n",
        "<table border=\"1\" class=\"dataframe\">\n",
        "  <thead>\n",
        "    <tr style=\"text-align: right;\">\n",
        "      <th></th>\n",
        "      <th>Best</th>\n",
        "      <th>Best Prob</th>\n",
        "      <th>Worst</th>\n",
        "      <th>Worst Prob</th>\n",
        "    </tr>\n",
        "  </thead>\n",
        "  <tbody>\n",
        "    <tr>\n",
        "      <th>1 </th>\n",
        "      <td>      touching</td>\n",
        "      <td> 0.899234</td>\n",
        "      <td>  unfortunately</td>\n",
        "      <td> 0.852555</td>\n",
        "    </tr>\n",
        "    <tr>\n",
        "      <th>2 </th>\n",
        "      <td>       delight</td>\n",
        "      <td> 0.887467</td>\n",
        "      <td>      pointless</td>\n",
        "      <td> 0.843669</td>\n",
        "    </tr>\n",
        "    <tr>\n",
        "      <th>3 </th>\n",
        "      <td>   masterpiece</td>\n",
        "      <td> 0.887091</td>\n",
        "      <td>           lame</td>\n",
        "      <td> 0.838813</td>\n",
        "    </tr>\n",
        "    <tr>\n",
        "      <th>4 </th>\n",
        "      <td>   intelligent</td>\n",
        "      <td> 0.877450</td>\n",
        "      <td>          fails</td>\n",
        "      <td> 0.824500</td>\n",
        "    </tr>\n",
        "    <tr>\n",
        "      <th>5 </th>\n",
        "      <td>          rare</td>\n",
        "      <td> 0.875067</td>\n",
        "      <td>          bland</td>\n",
        "      <td> 0.805073</td>\n",
        "    </tr>\n",
        "    <tr>\n",
        "      <th>6 </th>\n",
        "      <td>  entertaining</td>\n",
        "      <td> 0.873462</td>\n",
        "      <td> disappointment</td>\n",
        "      <td> 0.801883</td>\n",
        "    </tr>\n",
        "    <tr>\n",
        "      <th>7 </th>\n",
        "      <td>       perfect</td>\n",
        "      <td> 0.863785</td>\n",
        "      <td>     uninspired</td>\n",
        "      <td> 0.801883</td>\n",
        "    </tr>\n",
        "    <tr>\n",
        "      <th>8 </th>\n",
        "      <td>      powerful</td>\n",
        "      <td> 0.861611</td>\n",
        "      <td>        unfunny</td>\n",
        "      <td> 0.771321</td>\n",
        "    </tr>\n",
        "    <tr>\n",
        "      <th>9 </th>\n",
        "      <td> extraordinary</td>\n",
        "      <td> 0.854654</td>\n",
        "      <td>      misguided</td>\n",
        "      <td> 0.766167</td>\n",
        "    </tr>\n",
        "    <tr>\n",
        "      <th>10</th>\n",
        "      <td>    remarkable</td>\n",
        "      <td> 0.850906</td>\n",
        "      <td>           dull</td>\n",
        "      <td> 0.762601</td>\n",
        "    </tr>\n",
        "  </tbody>\n",
        "</table>\n",
        "</div>"
       ],
       "metadata": {},
       "output_type": "pyout",
       "prompt_number": 354,
       "text": [
        "             Best  Best Prob           Worst  Worst Prob\n",
        "1        touching   0.899234   unfortunately    0.852555\n",
        "2         delight   0.887467       pointless    0.843669\n",
        "3     masterpiece   0.887091            lame    0.838813\n",
        "4     intelligent   0.877450           fails    0.824500\n",
        "5            rare   0.875067           bland    0.805073\n",
        "6    entertaining   0.873462  disappointment    0.801883\n",
        "7         perfect   0.863785      uninspired    0.801883\n",
        "8        powerful   0.861611         unfunny    0.771321\n",
        "9   extraordinary   0.854654       misguided    0.766167\n",
        "10     remarkable   0.850906            dull    0.762601"
       ]
      }
     ],
     "prompt_number": 354
    },
    {
     "cell_type": "markdown",
     "metadata": {},
     "source": [
      "**4.2**\n",
      "\n",
      "One of the best sources for inspiration when trying to improve a model is to look at examples where the model performs poorly. \n",
      "\n",
      "Find 5 fresh and rotten reviews where your model performs particularly poorly. Print each review."
     ]
    },
    {
     "cell_type": "code",
     "collapsed": false,
     "input": [
      "#Your code here\n",
      "\n",
      "#get the sub dataframe of quotes from critics\n",
      "quotes=critics[['quote']]\n",
      "#add a column to the dataframe, fresh_delta, by subtracting the fresh prob from Y array and taking absolute value\n",
      "quotes['fresh_delta']=np.abs(clf.predict_proba(x)[:,1]-y)  \n",
      "#add a column to the dataframe, rotten_delta, by subtracting the rotten prob from Y array and taking absolute value\n",
      "quotes['rotten_delta']=np.abs(clf.predict_proba(x)[:,0]-y)\n",
      "#sort the dataframe in descending order for fresh and rotten seperately and grab the top 5 quotes\n",
      "fresh_mispredicted=quotes.sort(['fresh_delta'],ascending=False).head(5).quote.values\n",
      "rotten_mispredicted=quotes.sort(['rotten_delta'],ascending=False).head(5).quote.values\n",
      "\n",
      "#print the quotes \n",
      "for i in fresh_mispredicted:\n",
      "    print '*',i\n",
      "    print\n",
      "    \n",
      "print \n",
      "print\n",
      "\n",
      "for i in rotten_mispredicted: \n",
      "    print '*',i\n",
      "    print"
     ],
     "language": "python",
     "metadata": {},
     "outputs": [
      {
       "output_type": "stream",
       "stream": "stdout",
       "text": [
        "* Some of the gags don't work, but fewer than in any previous Brooks film that I've seen, and when the jokes are meant to be bad, they are riotously poor. What more can one ask of Mel Brooks?\n",
        "\n",
        "* There's too much talent and too strong a story to mess it up. There was potential for more here, but this incarnation is nothing to be ashamed of, and some of the actors answer the bell.\n",
        "\n",
        "* It survives today only as an unusually pure example of a typical 50s art-film strategy: the attempt to make the most modern and most popular of art forms acceptable to the intelligentsia by forcing it into an arcane, antique mold.\n",
        "\n",
        "* The gangland plot is flimsy (bad guy Peter Greene wears too much eyeliner), and the jokes are erratic, but it's a far better showcase for Carrey's comic-from-Uranus talent than Ace Ventura.\n",
        "\n",
        "* Irons gives an excruciating performance - what Streep's genuinely warm, wonderful Clara sees in him you'd need ESP to fathom.\n",
        "\n",
        "\n",
        "\n",
        "* This movie is fascinating in so many different ways: As the story of an extraordinary life, as the reconstruction of the career of one of the greatest of film artists, as the record of an ideological debate, as a portrait of an amazing old woman.\n",
        "\n",
        "* It offers, in the performance of nutcracker-faced, 56-year-old Barry Fitzgerald, the finest, funniest and most touching portrayal of old age that has yet reached the screen.\n",
        "\n",
        "* A combination of past and future, Western and space odyssey, myth and dream world, Star Wars may be the most enduring piece of escapism ever put on film.\n",
        "\n",
        "* Powerful, assured, full of beautiful imagery and thankfully devoid of easy moralising, it also offers a performance of surprising skill and sensitivity from Ford.\n",
        "\n",
        "* Groundhog Day may not be the funniest collaboration between Bill Murray and director Harold Ramis... Yet this gentle, small-scale effort is easily the most endearing film of both men's careers, a sweet and amusing surprise package.\n",
        "\n"
       ]
      }
     ],
     "prompt_number": 355
    },
    {
     "cell_type": "markdown",
     "metadata": {},
     "source": [
      "**4.3** What do you notice about these mis-predictions? Naive Bayes classifiers assume that every word affects the probability independently of other words. In what way is this a bad assumption? In your answer, report your classifier's Freshness probability for the review \"This movie is not remarkable, touching, or superb in any way\"."
     ]
    },
    {
     "cell_type": "code",
     "collapsed": false,
     "input": [
      "\n",
      "#calls transform to convert the text to bag of words\n",
      "x = vectorizer.transform(['This movie is not remarkable, touching, or superb in any way'])\n",
      "#predict prob using updated clasifier\n",
      "prob = clf.predict_proba(x)\n",
      "\n",
      "print prob\n"
     ],
     "language": "python",
     "metadata": {},
     "outputs": [
      {
       "output_type": "stream",
       "stream": "stdout",
       "text": [
        "[[ 0.01331832  0.98668168]]\n"
       ]
      }
     ],
     "prompt_number": 367
    },
    {
     "cell_type": "markdown",
     "metadata": {},
     "source": [
      "*Your answer here*\n",
      "\n",
      "Like it says in the question, the Naive Bayes classifiers assumes every word independently instead of looking at the whole sentence or find corelations. In the example above, all the words are positive in the quote and only word that is negative is 'not' but since majority of them are positive the model predicts this to be a good movie. However looking at many different reviews and averaging them helps. This is a bad assumption because it ignores the writing styles and only focuses on individual words. \n"
     ]
    },
    {
     "cell_type": "markdown",
     "metadata": {},
     "source": [
      "**4.4**\n",
      "If this was your final project, what are 3 things you would try in order to build a more effective review classifier? What other exploratory or explanatory visualizations do you think might be helpful?"
     ]
    },
    {
     "cell_type": "markdown",
     "metadata": {},
     "source": [
      "*Your answer here*\n",
      "\n",
      "I would look at other classifiers which would find negative words in the sentence and find its effects on other words. One way could be to use puntuations, especially commas to group the sentene in batches and then again apply Naive Bayes classifiers on them. So doing in the example above would have put 'not remarkable' in a group which would have decrease the prob of being fresh by 10%. Still this is not enough in order to catch all the mispredictions and more can be done. \n",
      "\n",
      "Visualisation always help and one thing we could have plotted is the mispredictions to give us an idea of how many are we mispredicting, a scatter plot with different colors would have done it. We could have also looked at what are some of the popular words in a visual form and compared them with each other. We could have picked out some negative words and have looped through the quotes to see how often they appear in a mispredicted quote."
     ]
    },
    {
     "cell_type": "markdown",
     "metadata": {},
     "source": [
      "### How to Submit\n",
      "\n",
      "Restart and run your notebook one last time, to make sure the output from each cell is up to date. To submit your homework, create a folder named lastname_firstinitial_hw3 and place your solutions in the folder. Double check that the file is still called HW3.ipynb, and that it contains your code. Please do **not** include the critics.csv data file, if you created one. Compress the folder (please use .zip compression) and submit to the CS109 dropbox in the appropriate folder. If we cannot access your work because these directions are not followed correctly, we will not grade your work!"
     ]
    },
    {
     "cell_type": "markdown",
     "metadata": {},
     "source": [
      "---\n",
      "*css tweaks in this cell*\n",
      "<style>\n",
      "div.text_cell_render {\n",
      "    line-height: 150%;\n",
      "    font-size: 110%;\n",
      "    width: 800px;\n",
      "    margin-left:50px;\n",
      "    margin-right:auto;\n",
      "    }\n",
      "</style>"
     ]
    }
   ],
   "metadata": {}
  }
 ]
}